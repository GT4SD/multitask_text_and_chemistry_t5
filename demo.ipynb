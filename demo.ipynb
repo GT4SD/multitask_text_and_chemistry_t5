{
 "cells": [
  {
   "cell_type": "markdown",
   "id": "7c45f314",
   "metadata": {},
   "source": [
    "\n",
    "# Inference using the Multitask Text and Chemistry T5 model\n",
    "\n",
    "In this notebook we show how to perform inference using the Multitask Text and Chemistry T5 model. We provide one example for each of the 5 tasks that the model has been trained on.\n"
   ]
  },
  {
   "cell_type": "code",
   "execution_count": null,
   "id": "8020f976",
   "metadata": {},
   "outputs": [],
   "source": [
    "from transformers import AutoTokenizer, AutoModelForSeq2SeqLM"
   ]
  },
  {
   "cell_type": "code",
   "execution_count": null,
   "id": "b8fbe835",
   "metadata": {},
   "outputs": [],
   "source": [
    "max_length = 512\n",
    "num_beams = 10"
   ]
  },
  {
   "cell_type": "markdown",
   "id": "02327c43",
   "metadata": {},
   "source": [
    "## Load model and tokenizer\n",
    "Load the model and the respective tokenizer. In the HuggingFace hub we can find the two small variants of our model. We use the small version trained on the augmented dataset  the following examples."
   ]
  },
  {
   "cell_type": "code",
   "execution_count": null,
   "id": "57845cd2",
   "metadata": {},
   "outputs": [],
   "source": [
    "model = AutoModelForSeq2SeqLM.from_pretrained(\"GT4SD/multitask-text-and-chemistry-t5-small-augm\")\n",
    "tokenizer = AutoTokenizer.from_pretrained(\"GT4SD/multitask-text-and-chemistry-t5-small-augm\")"
   ]
  },
  {
   "cell_type": "markdown",
   "id": "6332ecdf",
   "metadata": {},
   "source": [
    "## Paragraph-to-actions\n",
    "\n",
    "Input: The reaction mixture was cooled to -80° C., and a solution of tert-butyl 6-[(cyclopropylmethoxy)methyl]-6-hydroxy-1,4-oxazepane-4-carboxylate (Preparation 80, 50 g, 0.22 mol, 1 eq) in THF was added.\"\n",
    "\n",
    "Expected output: SETTEMPERATURE −80° C; MAKESOLUTION with tert-butyl 6-[(cyclopropylmethoxy)methyl]-6-hydroxy-1,4-oxazepane-4-carboxylate (50 g, 0.22 mol, 1 eq) and THF; ADD SLN.\n",
    "\n",
    "\n"
   ]
  },
  {
   "cell_type": "code",
   "execution_count": null,
   "id": "dedc866a",
   "metadata": {
    "scrolled": true
   },
   "outputs": [],
   "source": [
    "instance = \"The reaction mixture was cooled to -80° C., and a solution of tert-butyl 6-[(cyclopropylmethoxy)methyl]-6-hydroxy-1,4-oxazepane-4-carboxylate (Preparation 80, 50 g, 0.22 mol, 1 eq) in THF was added.\"\n",
    "input_text = f\"Which actions are described in the following paragraph: {instance}\"\n",
    "\n",
    "text = tokenizer(input_text, return_tensors=\"pt\")\n",
    "output = model.generate(input_ids=text[\"input_ids\"], max_length=max_length, num_beams=num_beams)\n",
    "output = tokenizer.decode(output[0].cpu())\n",
    "\n",
    "output = output.split(tokenizer.eos_token)[0]\n",
    "output = output.replace(tokenizer.pad_token,\"\")\n",
    "output = output.strip()\n",
    "\n",
    "output"
   ]
  },
  {
   "cell_type": "markdown",
   "id": "60146b72",
   "metadata": {},
   "source": [
    "## Forward prediction\n",
    "\n",
    "Input: CCOC(=O)c1cc2sc(C)cc2[nH]1.CI.CN(C)C=O.[H-]~[Na+]\n",
    "\n",
    "Expected output: CCOC(=O)c1cc2sc(C)cc2n1C"
   ]
  },
  {
   "cell_type": "code",
   "execution_count": null,
   "id": "6a5b45c5",
   "metadata": {},
   "outputs": [],
   "source": [
    "instance = \"CCOC(=O)c1cc2sc(C)cc2[nH]1.CI.CN(C)C=O.[H-]~[Na+]\"\n",
    "input_text = f\"Predict the product of the following reaction: {instance}\"\n",
    "\n",
    "text = tokenizer(input_text, return_tensors=\"pt\")\n",
    "output = model.generate(input_ids=text[\"input_ids\"], max_length=max_length, num_beams=num_beams)\n",
    "output = tokenizer.decode(output[0].cpu())\n",
    "\n",
    "output = output.split(tokenizer.eos_token)[0]\n",
    "output = output.replace(tokenizer.pad_token,\"\")\n",
    "output = output.strip()\n",
    "\n",
    "output"
   ]
  },
  {
   "cell_type": "markdown",
   "id": "d2d60396",
   "metadata": {},
   "source": [
    "## Backward prediction\n",
    "\n",
    "Input: CCS(=O)c1ccc(CCN)cc1 \n",
    "\n",
    "Expected output: CCS(=O)c1ccc(C#N)cc1.CO.N.[Ni]\n"
   ]
  },
  {
   "cell_type": "code",
   "execution_count": null,
   "id": "bbf2bbef",
   "metadata": {},
   "outputs": [],
   "source": [
    "instance = \"CCS(=O)c1ccc(CCN)cc1\"\n",
    "input_text = f\"Predict the reaction that produces the following product: {instance}\"\n",
    "\n",
    "text = tokenizer(input_text, return_tensors=\"pt\")\n",
    "output = model.generate(input_ids=text[\"input_ids\"], max_length=max_length, num_beams=num_beams)\n",
    "output = tokenizer.decode(output[0].cpu())\n",
    "\n",
    "output = output.split(tokenizer.eos_token)[0]\n",
    "output = output.replace(tokenizer.pad_token,\"\")\n",
    "output = output.strip()\n",
    "\n",
    "output"
   ]
  },
  {
   "cell_type": "markdown",
   "id": "01da2eb3",
   "metadata": {},
   "source": [
    "## Description-to-smiles\n",
    "\n",
    "Input: The molecule is a tripeptide composed of L-alanine, L-aspartic acid, and glycine units joined in sequence by peptide linkages. It has a role as a metabolite. It derives from a L-alanine, a L-aspartic acid and a glycine.\n",
    "\n",
    "Expected output: C[C@@H]\\(C(=O)N[C@@H]\\(CC(=O)O)C(=O)NCC(=O)O)N"
   ]
  },
  {
   "cell_type": "code",
   "execution_count": null,
   "id": "99232ba0",
   "metadata": {},
   "outputs": [],
   "source": [
    "instance = \"The molecule is a tripeptide composed of L-alanine, L-aspartic acid, and glycine units joined in sequence by peptide linkages. It has a role as a metabolite. It derives from a L-alanine, a L-aspartic acid and a glycine.\"\n",
    "input_text = f\"Write in SMILES the described molecule: {instance}\"\n",
    "\n",
    "text = tokenizer(input_text, return_tensors=\"pt\")\n",
    "output = model.generate(input_ids=text[\"input_ids\"], max_length=max_length, num_beams=num_beams)\n",
    "output = tokenizer.decode(output[0].cpu())\n",
    "\n",
    "output = output.split(tokenizer.eos_token)[0]\n",
    "output = output.replace(tokenizer.pad_token,\"\")\n",
    "output = output.replace(\"<unk>\",\"\\\\\\\\\")\n",
    "output = output.strip()\n",
    "\n",
    "output"
   ]
  },
  {
   "cell_type": "markdown",
   "id": "c667875b",
   "metadata": {},
   "source": [
    "## Smiles-to-caption\n",
    "\n",
    "Input: Caption the following smile: COC1=C(C=C2C3CC4=CC(=C(C=C4C(N3)CC2=C1)OC)OC)OC\n",
    "\n",
    "Expected output: The molecule is a racemate comprising equimolar amounts of (R,R)- and (S,S)-pavine. It has a role as a plant metabolite. It contains a (R,R)-pavine and a (S,S)-pavine. It is a conjugate base of a pavine(1+)."
   ]
  },
  {
   "cell_type": "code",
   "execution_count": null,
   "id": "0a3ebe09",
   "metadata": {},
   "outputs": [],
   "source": [
    "instance = \"COC1=C(C=C2C3CC4=CC(=C(C=C4C(N3)CC2=C1)OC)OC)OC\"\n",
    "input_text = f\"Caption the following molecule: {instance}\"\n",
    "\n",
    "text = tokenizer(input_text, return_tensors=\"pt\")\n",
    "output = model.generate(input_ids=text[\"input_ids\"], max_length=max_length, num_beams=num_beams)\n",
    "output = tokenizer.decode(output[0].cpu())\n",
    "\n",
    "output = output.split(tokenizer.eos_token)[0]\n",
    "output = output.replace(tokenizer.pad_token,\"\")\n",
    "output = output.strip()\n",
    "\n",
    "output"
   ]
  },
  {
   "cell_type": "code",
   "execution_count": null,
   "id": "3522cc34",
   "metadata": {},
   "outputs": [],
   "source": []
  }
 ],
 "metadata": {
  "kernelspec": {
   "display_name": "Python 3 (ipykernel)",
   "language": "python",
   "name": "python3"
  },
  "language_info": {
   "codemirror_mode": {
    "name": "ipython",
    "version": 3
   },
   "file_extension": ".py",
   "mimetype": "text/x-python",
   "name": "python",
   "nbconvert_exporter": "python",
   "pygments_lexer": "ipython3",
   "version": "3.9.13"
  }
 },
 "nbformat": 4,
 "nbformat_minor": 5
}
